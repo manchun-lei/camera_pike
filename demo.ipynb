{
 "cells": [
  {
   "cell_type": "code",
   "execution_count": 26,
   "id": "fd7add37",
   "metadata": {},
   "outputs": [
    {
     "name": "stdout",
     "output_type": "stream",
     "text": [
      "The autoreload extension is already loaded. To reload it, use:\n",
      "  %reload_ext autoreload\n"
     ]
    }
   ],
   "source": [
    "%load_ext autoreload \n",
    "%autoreload 2\n",
    "import os\n",
    "import glob\n",
    "import numpy as np\n",
    "import matplotlib.pyplot as plt\n",
    "from PIL import Image,ExifTags\n",
    "from datetime import datetime\n",
    "from util import * "
   ]
  },
  {
   "cell_type": "code",
   "execution_count": 2,
   "id": "67775cb1",
   "metadata": {},
   "outputs": [],
   "source": [
    "# Camera state configuration\n",
    "# set_pixel_format('rgb16')\n",
    "# set_frame_size_sub_center((640,480))\n",
    "# current_state()"
   ]
  },
  {
   "cell_type": "code",
   "execution_count": 3,
   "id": "82f1a866",
   "metadata": {},
   "outputs": [],
   "source": [
    "# run cameara \n",
    "# dstpath = r''\n",
    "# head = 'test'\n",
    "# fnumber = 1.9\n",
    "# wait = 0.1 # second\n",
    "# expsoures = [0.0001,0.001,0.01] #second\n",
    "# for exposure in exposures:\n",
    "#     single_acquisition(t=exposure,path=dstpath,head=head,show=False,fn=fnumber,\\\n",
    "#                        description = \"single image acquisition\")\n",
    "#     time.sleep(wait)\n",
    "\n"
   ]
  },
  {
   "cell_type": "code",
   "execution_count": 27,
   "id": "f017166c",
   "metadata": {},
   "outputs": [
    {
     "name": "stdout",
     "output_type": "stream",
     "text": [
      "(240, 320, 3) uint16\n",
      "2024-02-08 15:30:12.973\n",
      "camera : AVT Pike F210C\n",
      "pixel_format : BayerGR16\n",
      "description : single image acquisition\n",
      "bits : 16\n",
      "datetime : 2024-02-08 15:30:12.973\n",
      "fnumber : 1.9\n",
      "exposure : 0.007\n",
      "nx : 320\n",
      "ny : 240\n",
      "offset_x : 640\n",
      "offset_y : 300\n"
     ]
    }
   ],
   "source": [
    "\n",
    "# read image\n",
    "srcpath = r'P:\\hdr_pike\\radiometric_calibration_with_various_fnumbers\\19'\n",
    "srcflist = glob.glob(os.path.join(srcpath,'*.tif'))\n",
    "srcfile = srcflist[7]\n",
    "tags = read_exif_selected_tags(srcfile,show=False)\n",
    "\n",
    "rgb = debayer_sub_rgb(np.asarray(Image.open(srcfile)))\n",
    "print(rgb.shape,rgb.dtype)\n",
    "\n",
    "dstfile = r'P:\\hdr_pike\\tmp\\test.tif'\n",
    "dtnow = datetime.now().strftime(\"%Y-%m-%d %H:%M:%S.%f\")[:-3]\n",
    "print(dtnow)\n",
    "\n",
    "img = Image.fromarray(rgb[:,:,1])\n",
    "img.tag = create_exif_tag(tags['camera'],tags['pixel_format'],dtnow,\n",
    "                          tags['exposure'],\n",
    "                          tags['offset_x'],tags['offset_y'],\n",
    "                          fn=tags['fnumber'],description=tags['description'])\n",
    "\n",
    "\n",
    "img.save(dstfile,tiffinfo=img.tag)\n",
    "\n",
    "new_tags = read_exif_selected_tags(dstfile,show=True)"
   ]
  }
 ],
 "metadata": {
  "kernelspec": {
   "display_name": "Python 3 (ipykernel)",
   "language": "python",
   "name": "python3"
  },
  "language_info": {
   "codemirror_mode": {
    "name": "ipython",
    "version": 3
   },
   "file_extension": ".py",
   "mimetype": "text/x-python",
   "name": "python",
   "nbconvert_exporter": "python",
   "pygments_lexer": "ipython3",
   "version": "3.10.11"
  }
 },
 "nbformat": 4,
 "nbformat_minor": 5
}
